{
 "cells": [
  {
   "cell_type": "markdown",
   "metadata": {},
   "source": [
    "# item 1 - Get data"
   ]
  },
  {
   "cell_type": "code",
   "execution_count": null,
   "metadata": {},
   "outputs": [],
   "source": [
    "#!/usr/bin/python\n",
    "# -*- coding: utf-8 -*-\n",
    "\n",
    "%matplotlib inline\n",
    "\n",
    "import numpy as np\n",
    "import os, sys\n",
    "import imageio\n",
    "import pandas as pd\n",
    "import matplotlib.pyplot as plt\n",
    "\n",
    "path_txt = os.path.join('dataset', 'train', 'gt')\n",
    "path_mask = os.path.join('dataset', 'train', 'mask')\n",
    "\n",
    "dirs_txt = os.listdir(path_txt)\n",
    "dirs_mask = os.listdir(path_mask)\n",
    "\n",
    "data = dict()\n",
    "\n",
    "for gt in dirs_txt:\n",
    "    with open(os.path.join(path_txt, gt)) as f:\n",
    "        lines = f.readlines()\n",
    "        \n",
    "        im_name = gt.replace('gt', 'mask').replace('txt', 'png')\n",
    "        im_open = (imageio.imread(os.path.join(path_mask, im_name)))\n",
    "\n",
    "        lista = list()\n",
    "        for l in lines:\n",
    "            tly, tlx, bry, brx, tipo = l.split(' ')  \n",
    "            tly, tlx, bry, brx = map(float, [tly, tlx, bry, brx])\n",
    "            d = dict()\n",
    "            d['type'] = tipo.strip()\n",
    "            \n",
    "            w = brx - tlx\n",
    "            h = bry - tly\n",
    "            \n",
    "            d['width'] = w\n",
    "            d['height'] = h\n",
    "            d['bbox_area'] = w*h\n",
    "            d['form_factor'] = w/h\n",
    "            \n",
    "            d['tly'] = round(tly)\n",
    "            d['tlx'] = round(tlx)\n",
    "            d['bry'] = round(bry)\n",
    "            d['brx'] = round(brx)\n",
    "            \n",
    "            sub_mask = im_open[d['tly']:d['bry'], d['tlx']:d['brx']]\n",
    "            mask_area = np.count_nonzero(sub_mask)\n",
    "            d['mask_area'] = mask_area\n",
    "            d['filling_ratio'] = mask_area / d['bbox_area']\n",
    "            \n",
    "            lista.append(d)\n",
    "            \n",
    "        data[gt] = lista\n",
    "    "
   ]
  },
  {
   "cell_type": "code",
   "execution_count": 145,
   "metadata": {},
   "outputs": [
    {
     "name": "stdout",
     "output_type": "stream",
     "text": [
      "A    103\n",
      "B     14\n",
      "C     47\n",
      "D     71\n",
      "E     38\n",
      "F    120\n",
      "Name: type, dtype: int64\n"
     ]
    },
    {
     "data": {
      "text/plain": [
       "<matplotlib.axes._subplots.AxesSubplot at 0x119a96c18>"
      ]
     },
     "execution_count": 145,
     "metadata": {},
     "output_type": "execute_result"
    },
    {
     "data": {
      "image/png": "[encoded data removed]",
      "text/plain": [
       "<Figure size 720x504 with 1 Axes>"
      ]
     },
     "metadata": {
      "needs_background": "light"
     },
     "output_type": "display_data"
    }
   ],
   "source": [
    "# Write table\n",
    "columns = ['type','width','height','form_factor','bbox_area','mask_area','filling_ratio']\n",
    "df = pd.DataFrame.from_dict({(i,n): data[i][n]\n",
    "                        for i in data.keys()\n",
    "                        for n,v in enumerate(data[i])}, columns=columns, orient='index').sort_values(['type'])\n",
    "#print(df)\n",
    "#df['form_factor'].plot(figsize=(10, 7))\n",
    "\n",
    "# Count signals\n",
    "n_signals = df['type'].value_counts(sort=False).reindex(['A','B','C','D','E','F'])\n",
    "print(n_signals)\n",
    "\n",
    "df['type'].value_counts(sort=False,normalize=True).reindex(['A','B','C','D','E','F']).plot(figsize=(10, 7),kind='bar',sort_columns=True)\n",
    "\n",
    "\n"
   ]
  },
  {
   "cell_type": "code",
   "execution_count": 146,
   "metadata": {
    "scrolled": false
   },
   "outputs": [
    {
     "data": {
      "text/html": [
       "<div>\n",
       "<style scoped>\n",
       "    .dataframe tbody tr th:only-of-type {\n",
       "        vertical-align: middle;\n",
       "    }\n",
       "\n",
       "    .dataframe tbody tr th {\n",
       "        vertical-align: top;\n",
       "    }\n",
       "\n",
       "    .dataframe thead th {\n",
       "        text-align: right;\n",
       "    }\n",
       "</style>\n",
       "<table border=\"1\" class=\"dataframe\">\n",
       "  <thead>\n",
       "    <tr style=\"text-align: right;\">\n",
       "      <th></th>\n",
       "      <th>width</th>\n",
       "      <th>height</th>\n",
       "      <th>form_factor</th>\n",
       "      <th>bbox_area</th>\n",
       "      <th>mask_area</th>\n",
       "      <th>filling_ratio</th>\n",
       "    </tr>\n",
       "    <tr>\n",
       "      <th>type</th>\n",
       "      <th></th>\n",
       "      <th></th>\n",
       "      <th></th>\n",
       "      <th></th>\n",
       "      <th></th>\n",
       "      <th></th>\n",
       "    </tr>\n",
       "  </thead>\n",
       "  <tbody>\n",
       "    <tr>\n",
       "      <th>A</th>\n",
       "      <td>41.34</td>\n",
       "      <td>38.01</td>\n",
       "      <td>0.07</td>\n",
       "      <td>8279.86</td>\n",
       "      <td>4143.27</td>\n",
       "      <td>0.00</td>\n",
       "    </tr>\n",
       "    <tr>\n",
       "      <th>B</th>\n",
       "      <td>23.77</td>\n",
       "      <td>30.35</td>\n",
       "      <td>0.15</td>\n",
       "      <td>4742.37</td>\n",
       "      <td>2355.83</td>\n",
       "      <td>0.00</td>\n",
       "    </tr>\n",
       "    <tr>\n",
       "      <th>C</th>\n",
       "      <td>46.25</td>\n",
       "      <td>43.71</td>\n",
       "      <td>0.11</td>\n",
       "      <td>11043.92</td>\n",
       "      <td>8649.41</td>\n",
       "      <td>0.00</td>\n",
       "    </tr>\n",
       "    <tr>\n",
       "      <th>D</th>\n",
       "      <td>34.47</td>\n",
       "      <td>32.73</td>\n",
       "      <td>0.08</td>\n",
       "      <td>6220.39</td>\n",
       "      <td>5094.72</td>\n",
       "      <td>0.05</td>\n",
       "    </tr>\n",
       "    <tr>\n",
       "      <th>E</th>\n",
       "      <td>38.36</td>\n",
       "      <td>42.53</td>\n",
       "      <td>0.10</td>\n",
       "      <td>9622.29</td>\n",
       "      <td>7538.82</td>\n",
       "      <td>0.00</td>\n",
       "    </tr>\n",
       "    <tr>\n",
       "      <th>F</th>\n",
       "      <td>40.54</td>\n",
       "      <td>39.20</td>\n",
       "      <td>0.18</td>\n",
       "      <td>9245.58</td>\n",
       "      <td>9209.60</td>\n",
       "      <td>0.01</td>\n",
       "    </tr>\n",
       "  </tbody>\n",
       "</table>\n",
       "</div>"
      ],
      "text/plain": [
       "      width  height  form_factor  bbox_area  mask_area  filling_ratio\n",
       "type                                                                 \n",
       "A     41.34   38.01         0.07    8279.86    4143.27           0.00\n",
       "B     23.77   30.35         0.15    4742.37    2355.83           0.00\n",
       "C     46.25   43.71         0.11   11043.92    8649.41           0.00\n",
       "D     34.47   32.73         0.08    6220.39    5094.72           0.05\n",
       "E     38.36   42.53         0.10    9622.29    7538.82           0.00\n",
       "F     40.54   39.20         0.18    9245.58    9209.60           0.01"
      ]
     },
     "execution_count": 146,
     "metadata": {},
     "output_type": "execute_result"
    }
   ],
   "source": [
    "type_counts = df.groupby('type').aggregate(np.std).round(2)\n",
    "type_counts\n",
    "\n",
    "#type_counts = df.groupby('type').aggregate(np.median)\n",
    "#type_counts = df.groupby('type').aggregate(np.average)\n",
    "#type_counts = df.groupby('type').aggregate(np.std)\n"
   ]
  },
  {
   "cell_type": "code",
   "execution_count": 147,
   "metadata": {},
   "outputs": [],
   "source": [
    "# Group data by \"type\" (letter) and get statistics:\n",
    "\n",
    "# Function = get_stats (only shape, aspect ratio, etc, NOT COLOUR)\n",
    "\n",
    "# Queremos estadisticas de tamaño y forma en función de cada letra        "
   ]
  },
  {
   "cell_type": "code",
   "execution_count": 148,
   "metadata": {},
   "outputs": [],
   "source": [
    "# Plot and compare results"
   ]
  },
  {
   "cell_type": "markdown",
   "metadata": {},
   "source": [
    "# Item 2 - Split training dataset"
   ]
  },
  {
   "cell_type": "markdown",
   "metadata": {},
   "source": [
    "Al separar por tipo, tenemos que armar un algoritmo que nos separe el set de training en dos carpetas, \n",
    "separando mismos tipos en 70% / 30%."
   ]
  },
  {
   "cell_type": "code",
   "execution_count": 149,
   "metadata": {},
   "outputs": [
    {
     "data": {
      "text/plain": [
       "A    103\n",
       "B     14\n",
       "C     47\n",
       "D     71\n",
       "E     38\n",
       "F    120\n",
       "Name: type, dtype: int64"
      ]
     },
     "execution_count": 149,
     "metadata": {},
     "output_type": "execute_result"
    }
   ],
   "source": [
    "# Choose randomly the 70% of each class\n",
    "n_signals"
   ]
  },
  {
   "cell_type": "code",
   "execution_count": 150,
   "metadata": {},
   "outputs": [
    {
     "data": {
      "text/html": [
       "<div>\n",
       "<style scoped>\n",
       "    .dataframe tbody tr th:only-of-type {\n",
       "        vertical-align: middle;\n",
       "    }\n",
       "\n",
       "    .dataframe tbody tr th {\n",
       "        vertical-align: top;\n",
       "    }\n",
       "\n",
       "    .dataframe thead th {\n",
       "        text-align: right;\n",
       "    }\n",
       "</style>\n",
       "<table border=\"1\" class=\"dataframe\">\n",
       "  <thead>\n",
       "    <tr style=\"text-align: right;\">\n",
       "      <th></th>\n",
       "      <th></th>\n",
       "      <th>type</th>\n",
       "      <th>width</th>\n",
       "      <th>height</th>\n",
       "      <th>form_factor</th>\n",
       "      <th>bbox_area</th>\n",
       "      <th>mask_area</th>\n",
       "      <th>filling_ratio</th>\n",
       "    </tr>\n",
       "  </thead>\n",
       "  <tbody>\n",
       "    <tr>\n",
       "      <th>gt.01.001223.txt</th>\n",
       "      <th>0</th>\n",
       "      <td>B</td>\n",
       "      <td>57.14</td>\n",
       "      <td>48.18</td>\n",
       "      <td>1.185969</td>\n",
       "      <td>2753.0052</td>\n",
       "      <td>1372</td>\n",
       "      <td>0.498364</td>\n",
       "    </tr>\n",
       "    <tr>\n",
       "      <th>gt.01.001222.txt</th>\n",
       "      <th>0</th>\n",
       "      <td>B</td>\n",
       "      <td>52.52</td>\n",
       "      <td>44.96</td>\n",
       "      <td>1.168149</td>\n",
       "      <td>2361.2992</td>\n",
       "      <td>1157</td>\n",
       "      <td>0.489984</td>\n",
       "    </tr>\n",
       "    <tr>\n",
       "      <th>gt.01.003462.txt</th>\n",
       "      <th>0</th>\n",
       "      <td>B</td>\n",
       "      <td>106.70</td>\n",
       "      <td>96.34</td>\n",
       "      <td>1.107536</td>\n",
       "      <td>10279.4780</td>\n",
       "      <td>5093</td>\n",
       "      <td>0.495453</td>\n",
       "    </tr>\n",
       "    <tr>\n",
       "      <th>gt.00.001768.txt</th>\n",
       "      <th>0</th>\n",
       "      <td>B</td>\n",
       "      <td>80.61</td>\n",
       "      <td>87.42</td>\n",
       "      <td>0.922100</td>\n",
       "      <td>7046.9262</td>\n",
       "      <td>3482</td>\n",
       "      <td>0.494116</td>\n",
       "    </tr>\n",
       "    <tr>\n",
       "      <th>gt.00.001766.txt</th>\n",
       "      <th>0</th>\n",
       "      <td>B</td>\n",
       "      <td>120.82</td>\n",
       "      <td>121.22</td>\n",
       "      <td>0.996700</td>\n",
       "      <td>14645.8004</td>\n",
       "      <td>7220</td>\n",
       "      <td>0.492974</td>\n",
       "    </tr>\n",
       "    <tr>\n",
       "      <th>gt.00.004563.txt</th>\n",
       "      <th>0</th>\n",
       "      <td>B</td>\n",
       "      <td>64.70</td>\n",
       "      <td>62.74</td>\n",
       "      <td>1.031240</td>\n",
       "      <td>4059.2780</td>\n",
       "      <td>2009</td>\n",
       "      <td>0.494916</td>\n",
       "    </tr>\n",
       "    <tr>\n",
       "      <th>gt.00.004564.txt</th>\n",
       "      <th>0</th>\n",
       "      <td>B</td>\n",
       "      <td>62.26</td>\n",
       "      <td>57.36</td>\n",
       "      <td>1.085425</td>\n",
       "      <td>3571.2336</td>\n",
       "      <td>1767</td>\n",
       "      <td>0.494787</td>\n",
       "    </tr>\n",
       "    <tr>\n",
       "      <th>gt.00.004565.txt</th>\n",
       "      <th>0</th>\n",
       "      <td>B</td>\n",
       "      <td>70.10</td>\n",
       "      <td>68.38</td>\n",
       "      <td>1.025154</td>\n",
       "      <td>4793.4380</td>\n",
       "      <td>2345</td>\n",
       "      <td>0.489210</td>\n",
       "    </tr>\n",
       "    <tr>\n",
       "      <th>gt.00.000978.txt</th>\n",
       "      <th>0</th>\n",
       "      <td>B</td>\n",
       "      <td>90.09</td>\n",
       "      <td>78.75</td>\n",
       "      <td>1.144000</td>\n",
       "      <td>7094.5875</td>\n",
       "      <td>3505</td>\n",
       "      <td>0.494039</td>\n",
       "    </tr>\n",
       "    <tr>\n",
       "      <th>gt.00.000977.txt</th>\n",
       "      <th>0</th>\n",
       "      <td>B</td>\n",
       "      <td>69.94</td>\n",
       "      <td>62.47</td>\n",
       "      <td>1.119577</td>\n",
       "      <td>4369.1518</td>\n",
       "      <td>2156</td>\n",
       "      <td>0.493460</td>\n",
       "    </tr>\n",
       "    <tr>\n",
       "      <th>gt.00.000979.txt</th>\n",
       "      <th>0</th>\n",
       "      <td>B</td>\n",
       "      <td>111.84</td>\n",
       "      <td>99.60</td>\n",
       "      <td>1.122892</td>\n",
       "      <td>11139.2640</td>\n",
       "      <td>5469</td>\n",
       "      <td>0.490966</td>\n",
       "    </tr>\n",
       "    <tr>\n",
       "      <th>gt.00.001526.txt</th>\n",
       "      <th>0</th>\n",
       "      <td>B</td>\n",
       "      <td>123.23</td>\n",
       "      <td>149.01</td>\n",
       "      <td>0.826991</td>\n",
       "      <td>18362.5023</td>\n",
       "      <td>9164</td>\n",
       "      <td>0.499061</td>\n",
       "    </tr>\n",
       "    <tr>\n",
       "      <th>gt.00.001527.txt</th>\n",
       "      <th>0</th>\n",
       "      <td>B</td>\n",
       "      <td>89.52</td>\n",
       "      <td>117.28</td>\n",
       "      <td>0.763302</td>\n",
       "      <td>10498.9056</td>\n",
       "      <td>5170</td>\n",
       "      <td>0.492432</td>\n",
       "    </tr>\n",
       "    <tr>\n",
       "      <th>gt.00.001528.txt</th>\n",
       "      <th>0</th>\n",
       "      <td>B</td>\n",
       "      <td>72.41</td>\n",
       "      <td>96.46</td>\n",
       "      <td>0.750674</td>\n",
       "      <td>6984.6686</td>\n",
       "      <td>3456</td>\n",
       "      <td>0.494798</td>\n",
       "    </tr>\n",
       "  </tbody>\n",
       "</table>\n",
       "</div>"
      ],
      "text/plain": [
       "                   type   width  height  form_factor   bbox_area  mask_area  \\\n",
       "gt.01.001223.txt 0    B   57.14   48.18     1.185969   2753.0052       1372   \n",
       "gt.01.001222.txt 0    B   52.52   44.96     1.168149   2361.2992       1157   \n",
       "gt.01.003462.txt 0    B  106.70   96.34     1.107536  10279.4780       5093   \n",
       "gt.00.001768.txt 0    B   80.61   87.42     0.922100   7046.9262       3482   \n",
       "gt.00.001766.txt 0    B  120.82  121.22     0.996700  14645.8004       7220   \n",
       "gt.00.004563.txt 0    B   64.70   62.74     1.031240   4059.2780       2009   \n",
       "gt.00.004564.txt 0    B   62.26   57.36     1.085425   3571.2336       1767   \n",
       "gt.00.004565.txt 0    B   70.10   68.38     1.025154   4793.4380       2345   \n",
       "gt.00.000978.txt 0    B   90.09   78.75     1.144000   7094.5875       3505   \n",
       "gt.00.000977.txt 0    B   69.94   62.47     1.119577   4369.1518       2156   \n",
       "gt.00.000979.txt 0    B  111.84   99.60     1.122892  11139.2640       5469   \n",
       "gt.00.001526.txt 0    B  123.23  149.01     0.826991  18362.5023       9164   \n",
       "gt.00.001527.txt 0    B   89.52  117.28     0.763302  10498.9056       5170   \n",
       "gt.00.001528.txt 0    B   72.41   96.46     0.750674   6984.6686       3456   \n",
       "\n",
       "                    filling_ratio  \n",
       "gt.01.001223.txt 0       0.498364  \n",
       "gt.01.001222.txt 0       0.489984  \n",
       "gt.01.003462.txt 0       0.495453  \n",
       "gt.00.001768.txt 0       0.494116  \n",
       "gt.00.001766.txt 0       0.492974  \n",
       "gt.00.004563.txt 0       0.494916  \n",
       "gt.00.004564.txt 0       0.494787  \n",
       "gt.00.004565.txt 0       0.489210  \n",
       "gt.00.000978.txt 0       0.494039  \n",
       "gt.00.000977.txt 0       0.493460  \n",
       "gt.00.000979.txt 0       0.490966  \n",
       "gt.00.001526.txt 0       0.499061  \n",
       "gt.00.001527.txt 0       0.492432  \n",
       "gt.00.001528.txt 0       0.494798  "
      ]
     },
     "execution_count": 150,
     "metadata": {},
     "output_type": "execute_result"
    }
   ],
   "source": [
    "# Get only one class\n",
    "df_filtered = df[df['type'] == \"B\"]\n",
    "df_filtered"
   ]
  },
  {
   "cell_type": "code",
   "execution_count": 151,
   "metadata": {},
   "outputs": [
    {
     "data": {
      "text/html": [
       "<div>\n",
       "<style scoped>\n",
       "    .dataframe tbody tr th:only-of-type {\n",
       "        vertical-align: middle;\n",
       "    }\n",
       "\n",
       "    .dataframe tbody tr th {\n",
       "        vertical-align: top;\n",
       "    }\n",
       "\n",
       "    .dataframe thead th {\n",
       "        text-align: right;\n",
       "    }\n",
       "</style>\n",
       "<table border=\"1\" class=\"dataframe\">\n",
       "  <thead>\n",
       "    <tr style=\"text-align: right;\">\n",
       "      <th></th>\n",
       "      <th></th>\n",
       "      <th>type</th>\n",
       "      <th>width</th>\n",
       "      <th>height</th>\n",
       "      <th>form_factor</th>\n",
       "      <th>bbox_area</th>\n",
       "      <th>mask_area</th>\n",
       "      <th>filling_ratio</th>\n",
       "    </tr>\n",
       "  </thead>\n",
       "  <tbody>\n",
       "    <tr>\n",
       "      <th>gt.00.000977.txt</th>\n",
       "      <th>0</th>\n",
       "      <td>B</td>\n",
       "      <td>69.94</td>\n",
       "      <td>62.47</td>\n",
       "      <td>1.119577</td>\n",
       "      <td>4369.1518</td>\n",
       "      <td>2156</td>\n",
       "      <td>0.493460</td>\n",
       "    </tr>\n",
       "    <tr>\n",
       "      <th>gt.01.003462.txt</th>\n",
       "      <th>0</th>\n",
       "      <td>B</td>\n",
       "      <td>106.70</td>\n",
       "      <td>96.34</td>\n",
       "      <td>1.107536</td>\n",
       "      <td>10279.4780</td>\n",
       "      <td>5093</td>\n",
       "      <td>0.495453</td>\n",
       "    </tr>\n",
       "    <tr>\n",
       "      <th>gt.00.004565.txt</th>\n",
       "      <th>0</th>\n",
       "      <td>B</td>\n",
       "      <td>70.10</td>\n",
       "      <td>68.38</td>\n",
       "      <td>1.025154</td>\n",
       "      <td>4793.4380</td>\n",
       "      <td>2345</td>\n",
       "      <td>0.489210</td>\n",
       "    </tr>\n",
       "    <tr>\n",
       "      <th>gt.00.001528.txt</th>\n",
       "      <th>0</th>\n",
       "      <td>B</td>\n",
       "      <td>72.41</td>\n",
       "      <td>96.46</td>\n",
       "      <td>0.750674</td>\n",
       "      <td>6984.6686</td>\n",
       "      <td>3456</td>\n",
       "      <td>0.494798</td>\n",
       "    </tr>\n",
       "  </tbody>\n",
       "</table>\n",
       "</div>"
      ],
      "text/plain": [
       "                   type   width  height  form_factor   bbox_area  mask_area  \\\n",
       "gt.00.000977.txt 0    B   69.94   62.47     1.119577   4369.1518       2156   \n",
       "gt.01.003462.txt 0    B  106.70   96.34     1.107536  10279.4780       5093   \n",
       "gt.00.004565.txt 0    B   70.10   68.38     1.025154   4793.4380       2345   \n",
       "gt.00.001528.txt 0    B   72.41   96.46     0.750674   6984.6686       3456   \n",
       "\n",
       "                    filling_ratio  \n",
       "gt.00.000977.txt 0       0.493460  \n",
       "gt.01.003462.txt 0       0.495453  \n",
       "gt.00.004565.txt 0       0.489210  \n",
       "gt.00.001528.txt 0       0.494798  "
      ]
     },
     "execution_count": 151,
     "metadata": {},
     "output_type": "execute_result"
    }
   ],
   "source": [
    "df_sorted_train = df_filtered.sample(frac=0.3)\n",
    "df_sorted_train"
   ]
  },
  {
   "cell_type": "code",
   "execution_count": 152,
   "metadata": {},
   "outputs": [
    {
     "data": {
      "text/plain": [
       "(('gt.00.000977.txt', 0),\n",
       " ('gt.01.003462.txt', 0),\n",
       " ('gt.00.004565.txt', 0),\n",
       " ('gt.00.001528.txt', 0))"
      ]
     },
     "execution_count": 152,
     "metadata": {},
     "output_type": "execute_result"
    }
   ],
   "source": [
    "tuple(zip(df_sorted_train.index.get_level_values(0).tolist(),df_sorted_train.index.get_level_values(1).tolist()))\n"
   ]
  },
  {
   "cell_type": "code",
   "execution_count": 153,
   "metadata": {},
   "outputs": [],
   "source": [
    "df_sorted_test = pd.concat([df_filtered,df_sorted_train]).drop_duplicates(keep=False)"
   ]
  },
  {
   "cell_type": "code",
   "execution_count": 154,
   "metadata": {},
   "outputs": [
    {
     "data": {
      "text/plain": [
       "(('gt.01.001223.txt', 0),\n",
       " ('gt.01.001222.txt', 0),\n",
       " ('gt.00.001768.txt', 0),\n",
       " ('gt.00.001766.txt', 0),\n",
       " ('gt.00.004563.txt', 0),\n",
       " ('gt.00.004564.txt', 0),\n",
       " ('gt.00.000978.txt', 0),\n",
       " ('gt.00.000979.txt', 0),\n",
       " ('gt.00.001526.txt', 0),\n",
       " ('gt.00.001527.txt', 0))"
      ]
     },
     "execution_count": 154,
     "metadata": {},
     "output_type": "execute_result"
    }
   ],
   "source": [
    "tuple(zip(df_sorted_test.index.get_level_values(0).tolist(),df_sorted_test.index.get_level_values(1).tolist()))\n"
   ]
  },
  {
   "cell_type": "code",
   "execution_count": null,
   "metadata": {},
   "outputs": [],
   "source": [
    "# TODO Escribir funcion que saque toda la lista\n"
   ]
  },
  {
   "cell_type": "markdown",
   "metadata": {},
   "source": [
    "# Item 3 - Separation by colour"
   ]
  },
  {
   "cell_type": "markdown",
   "metadata": {},
   "source": [
    "\n",
    "Para cada imagen de prueba, nos basamos en el diccionario y usamos el bounding box que ya calculamos.\n",
    "\n",
    "Recortamos la imagen, le calculamos el histograma. Sumamos los histogramas de todas las imágenes y obtenemos la suma total.\n",
    "\n",
    "Luego hacemos lo mismo y al recortar la roi de cada imagen convertimos la roi de rgb a hsv, calculamos el histograma\n",
    "y obtenemos la suma de todos los histogramas. \n",
    "\n",
    "Con estas cosas deberíamos poder obtener los thresholds a aplicar luego.\n"
   ]
  },
  {
   "cell_type": "markdown",
   "metadata": {},
   "source": [
    "Hacer gráficos chetos de los histogramas. Ajustar con multiples gaussianas, calcular promedio, mediana, std, etc.\n",
    "Compararlos y elegir el mejor.\n",
    "\n",
    "Luego aplicar las máscaras con los thresholds calculados"
   ]
  },
  {
   "cell_type": "code",
   "execution_count": 92,
   "metadata": {},
   "outputs": [],
   "source": [
    "# Convert RGB images tu HUE images\n",
    "\n",
    "# Get stats from HUE images\n",
    "\n",
    "# Plot and compare\n",
    "\n",
    "# Select thresholds (RGB y HUE)\n",
    "\n",
    "# Create masks using previous thresholds\n",
    "\n"
   ]
  },
  {
   "cell_type": "markdown",
   "metadata": {},
   "source": [
    "# Calculate histograms:"
   ]
  },
  {
   "cell_type": "code",
   "execution_count": 2,
   "metadata": {},
   "outputs": [
    {
     "name": "stderr",
     "output_type": "stream",
     "text": [
      "/home/agus/miniconda3/lib/python3.7/site-packages/skimage/color/colorconv.py:269: RuntimeWarning: divide by zero encountered in true_divide\n",
      "  out_s = delta / out_v\n",
      "/home/agus/miniconda3/lib/python3.7/site-packages/skimage/color/colorconv.py:275: RuntimeWarning: divide by zero encountered in true_divide\n",
      "  out[idx, 0] = (arr[idx, 1] - arr[idx, 2]) / delta[idx]\n",
      "/home/agus/miniconda3/lib/python3.7/site-packages/skimage/color/colorconv.py:279: RuntimeWarning: divide by zero encountered in true_divide\n",
      "  out[idx, 0] = 2. + (arr[idx, 2] - arr[idx, 0]) / delta[idx]\n",
      "/home/agus/miniconda3/lib/python3.7/site-packages/skimage/color/colorconv.py:283: RuntimeWarning: divide by zero encountered in true_divide\n",
      "  out[idx, 0] = 4. + (arr[idx, 0] - arr[idx, 1]) / delta[idx]\n"
     ]
    }
   ],
   "source": [
    "from skimage import color\n",
    "\n",
    "path_jpg = os.path.join('dataset', 'train', 'jpg')\n",
    "dirs_jpg = os.listdir(path_jpg)\n",
    "\n",
    "def rgb_histogram(gt_dictionary, path_jpg):\n",
    "\n",
    "    r_hist = np.zeros(255)\n",
    "    g_hist = np.zeros(255)\n",
    "    b_hist = np.zeros(255)\n",
    "\n",
    "    for gt, values in list(gt_dictionary.items()):\n",
    "        for v in values:\n",
    "\n",
    "            jpg_name = gt.replace('gt.', '').replace('txt', 'jpg')\n",
    "            jpg_roi = imageio.imread(os.path.join(path_jpg, jpg_name))[v['tly']:v['bry'], v['tlx']:v['brx']]\n",
    "\n",
    "            bins = np.histogram(jpg_roi[:,:,0], bins=255, range=(1,255))[1]\n",
    "            r_hist += np.histogram(jpg_roi[:,:,0], bins=255, range=(1,255))[0]\n",
    "            g_hist += np.histogram(jpg_roi[:,:,1], bins=255, range=(1,255))[0]\n",
    "            b_hist += np.histogram(jpg_roi[:,:,2], bins=255, range=(1,255))[0]\n",
    "    \n",
    "    return bins, r_hist, g_hist, b_hist\n",
    "\n",
    "\n",
    "def hsv_histogram(gt_dictionary, path_jpg):\n",
    "\n",
    "    h_hist = np.zeros(255)\n",
    "    s_hist = np.zeros(255)\n",
    "    v_hist = np.zeros(255)\n",
    "\n",
    "    for gt, values in list(gt_dictionary.items()):\n",
    "        for v in values:\n",
    "\n",
    "            jpg_name = gt.replace('gt.', '').replace('txt', 'jpg')\n",
    "            jpg_roi = imageio.imread(os.path.join(path_jpg, jpg_name))[v['tly']:v['bry'], v['tlx']:v['brx']]\n",
    "            hsv_roi = color.rgb2hsv(jpg_roi)*255\n",
    "            \n",
    "            bins = np.histogram(hsv_roi[:,:,0], bins=255, range=(1,255))[1]\n",
    "            h_hist += np.histogram(hsv_roi[:,:,0], bins=255, range=(1,255))[0]\n",
    "            s_hist += np.histogram(hsv_roi[:,:,1], bins=255, range=(1,255))[0]\n",
    "            v_hist += np.histogram(hsv_roi[:,:,2], bins=255, range=(1,255))[0]\n",
    "    \n",
    "    return bins, h_hist, s_hist, v_hist\n",
    "\n",
    "################################################\n",
    "# Calculate histograms with traffic signal data:\n",
    "################################################\n",
    "\n",
    "# RGB histograms:\n",
    "\n",
    "bins, r_hist, g_hist, b_hist = rgb_histogram(data, path_jpg)\n",
    "\n",
    "# HSV histograms:\n",
    "\n",
    "hbins, h_hist, s_hist, v_hist = hsv_histogram(data, path_jpg)\n"
   ]
  },
  {
   "cell_type": "markdown",
   "metadata": {},
   "source": [
    "# Plot histograms:"
   ]
  },
  {
   "cell_type": "code",
   "execution_count": 4,
   "metadata": {},
   "outputs": [
    {
     "data": {
      "image/png": "[encoded data removed]",
      "text/plain": [
       "<Figure size 504x504 with 1 Axes>"
      ]
     },
     "metadata": {
      "needs_background": "light"
     },
     "output_type": "display_data"
    },
    {
     "data": {
      "image/png": "[encoded data removed]",
      "text/plain": [
       "<Figure size 504x504 with 1 Axes>"
      ]
     },
     "metadata": {
      "needs_background": "light"
     },
     "output_type": "display_data"
    },
    {
     "data": {
      "image/png": "[encoded data removed]",
      "text/plain": [
       "<Figure size 504x504 with 1 Axes>"
      ]
     },
     "metadata": {
      "needs_background": "light"
     },
     "output_type": "display_data"
    },
    {
     "data": {
      "image/png": "[encoded data removed]",
      "text/plain": [
       "<Figure size 504x504 with 1 Axes>"
      ]
     },
     "metadata": {
      "needs_background": "light"
     },
     "output_type": "display_data"
    },
    {
     "data": {
      "image/png": "[encoded data removed]",
      "text/plain": [
       "<Figure size 504x504 with 1 Axes>"
      ]
     },
     "metadata": {
      "needs_background": "light"
     },
     "output_type": "display_data"
    },
    {
     "data": {
      "image/png": "[encoded data removed]",
      "text/plain": [
       "<Figure size 504x504 with 1 Axes>"
      ]
     },
     "metadata": {
      "needs_background": "light"
     },
     "output_type": "display_data"
    }
   ],
   "source": [
    "# Questions: why can't I use the variable 'bins' to plot the histograms?\n",
    "# Why do I get a divergence at 255?\n",
    "# Why am I dividing by zero when converting to HSV?\n",
    "\n",
    "def plot_histogram(hist, color_name, color_plot):\n",
    "\n",
    "    x = np.arange(255)\n",
    "\n",
    "    plt.figure(figsize=(7,7))\n",
    "    plt.bar(x, hist, color=color_plot)\n",
    "    plt.ylim((0,60000))\n",
    "    plt.title(color_name + ' histogram')\n",
    "    plt.xlabel('8bit quantification')\n",
    "    plt.ylabel('Total number of px')\n",
    "    plt.show()\n",
    "    \n",
    "# Plot RGB histograms:\n",
    "\n",
    "plot_histogram(r_hist, 'Red', 'r')\n",
    "plot_histogram(g_hist, 'Green', 'g')\n",
    "plot_histogram(b_hist, 'Blue', 'b')\n",
    "\n",
    "# Plot HSV histograms:\n",
    "\n",
    "plot_histogram(h_hist, 'H', 'r')\n",
    "plot_histogram(s_hist, 'S', 'g')\n",
    "plot_histogram(v_hist, 'V', 'b')\n"
   ]
  },
  {
   "cell_type": "markdown",
   "metadata": {},
   "source": [
    "# Item 4 - Evaluate colour masks "
   ]
  },
  {
   "cell_type": "markdown",
   "metadata": {},
   "source": [
    "Comparar las máscaras obtenidas con el ground truth.\n",
    "\n",
    "Podemos ver si sirven las funciones que ya nos dieron hechas."
   ]
  },
  {
   "cell_type": "markdown",
   "metadata": {},
   "source": [
    "# Lo que sigue a partir de aqui fueron pruebas hechas el martes:"
   ]
  },
  {
   "cell_type": "code",
   "execution_count": null,
   "metadata": {},
   "outputs": [],
   "source": [
    "print(data['gt.00.005025.txt'][0])\n",
    "print(data['gt.00.005025.txt'][1])\n",
    "\n",
    "for gt in dirs_txt:\n",
    "    print(data[gt][0]['filling_ratio'])"
   ]
  },
  {
   "cell_type": "code",
   "execution_count": null,
   "metadata": {},
   "outputs": [],
   "source": [
    "for mask in dirs_mask:\n",
    "    gt = mask.replace('mask', 'gt').replace('png', 'txt')\n",
    "    m = (imageio.imread(os.path.join(path_mask, mask)))\n",
    "    mask_area = m.sum()\n",
    "    d = data[gt]\n",
    "    d['mask_area'] = mask_area\n",
    "    d['filling_ratio'] = mask_area / d['bbox_area']\n",
    "    \n",
    "    print(d['mask_area'], d['filling_ratio'], mask)\n",
    "    "
   ]
  },
  {
   "cell_type": "code",
   "execution_count": null,
   "metadata": {},
   "outputs": [],
   "source": [
    "print(dirs_mask[0].replace('mask', 'gt').replace('png', 'txt'))\n",
    "print(dirs_txt[0])\n"
   ]
  },
  {
   "cell_type": "code",
   "execution_count": null,
   "metadata": {},
   "outputs": [],
   "source": [
    "import matplotlib.pyplot as plt\n",
    "\n",
    "% matplotlib inline\n",
    "\n",
    "m = imageio.imread(os.path.join(path_mask,'mask.00.005025.png')).astype(np.int8)\n",
    "\n",
    "plt.imshow(m[146:201, 1324:1375])\n"
   ]
  }
 ],
 "metadata": {
  "kernelspec": {
   "display_name": "Python 3",
   "language": "python",
   "name": "python3"
  },
  "language_info": {
   "codemirror_mode": {
    "name": "ipython",
    "version": 3
   },
   "file_extension": ".py",
   "mimetype": "text/x-python",
   "name": "python",
   "nbconvert_exporter": "python",
   "pygments_lexer": "ipython3",
   "version": "3.6.6"
  }
 },
 "nbformat": 4,
 "nbformat_minor": 2
}
