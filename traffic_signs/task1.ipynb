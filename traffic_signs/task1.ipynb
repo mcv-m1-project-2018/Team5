{
 "cells": [
  {
   "cell_type": "markdown",
   "metadata": {},
   "source": [
    "# item 1 - Get data"
   ]
  },
  {
   "cell_type": "code",
   "execution_count": 56,
   "metadata": {},
   "outputs": [],
   "source": [
    "#!/usr/bin/python\n",
    "# -*- coding: utf-8 -*-\n",
    "\n",
    "%matplotlib inline\n",
    "\n",
    "import numpy as np\n",
    "import os, sys\n",
    "import imageio\n",
    "import pandas as pd\n",
    "import matplotlib.pyplot as plt\n",
    "\n",
    "path_txt = os.path.join('dataset', 'train', 'gt')\n",
    "path_mask = os.path.join('dataset', 'train', 'mask')\n",
    "\n",
    "dirs_txt = os.listdir(path_txt)\n",
    "dirs_mask = os.listdir(path_mask)\n",
    "\n",
    "data = dict()\n",
    "\n",
    "for gt in dirs_txt:\n",
    "    with open(os.path.join(path_txt, gt)) as f:\n",
    "        lines = f.readlines()\n",
    "        \n",
    "        im_name = gt.replace('gt', 'mask').replace('txt', 'png')\n",
    "        im_open = (imageio.imread(os.path.join(path_mask, im_name)))\n",
    "\n",
    "        lista = list()\n",
    "        for l in lines:\n",
    "            tly, tlx, bry, brx, tipo = l.split(' ')  \n",
    "            tly, tlx, bry, brx = map(float, [tly, tlx, bry, brx])\n",
    "            d = dict()\n",
    "            d['type'] = tipo.strip()\n",
    "            \n",
    "            w = brx - tlx\n",
    "            h = bry - tly\n",
    "            \n",
    "            d['width'] = w\n",
    "            d['height'] = h\n",
    "            d['bbox_area'] = w*h\n",
    "            d['form_factor'] = w/h\n",
    "            \n",
    "            d['tly'] = round(tly)\n",
    "            d['tlx'] = round(tlx)\n",
    "            d['bry'] = round(bry)\n",
    "            d['brx'] = round(brx)\n",
    "            \n",
    "            sub_mask = im_open[d['tly']:d['bry'], d['tlx']:d['brx']]\n",
    "            mask_area = np.count_nonzero(sub_mask)\n",
    "            d['mask_area'] = mask_area\n",
    "            d['filling_ratio'] = mask_area / d['bbox_area']\n",
    "            \n",
    "            lista.append(d)\n",
    "            \n",
    "        data[gt] = lista\n",
    "    "
   ]
  },
  {
   "cell_type": "code",
   "execution_count": 57,
   "metadata": {},
   "outputs": [
    {
     "name": "stdout",
     "output_type": "stream",
     "text": [
      "A    103\n",
      "B     14\n",
      "C     47\n",
      "D     71\n",
      "E     38\n",
      "F    120\n",
      "Name: type, dtype: int64\n"
     ]
    },
    {
     "data": {
      "text/plain": [
       "<matplotlib.axes._subplots.AxesSubplot at 0x101808f60>"
      ]
     },
     "execution_count": 57,
     "metadata": {},
     "output_type": "execute_result"
    },
    {
     "data": {
      "image/png": "[encoded data removed]",
      "text/plain": [
       "<Figure size 720x504 with 1 Axes>"
      ]
     },
     "metadata": {
      "needs_background": "light"
     },
     "output_type": "display_data"
    }
   ],
   "source": [
    "# Write table\n",
    "columns = ['type','width','height','form_factor','bbox_area','mask_area','filling_ratio']\n",
    "df = pd.DataFrame.from_dict({(i,n): data[i][n]\n",
    "                        for i in data.keys()\n",
    "                        for n,v in enumerate(data[i])}, columns=columns, orient='index').sort_values(['type'])\n",
    "#print(df)\n",
    "#df['form_factor'].plot(figsize=(10, 7))\n",
    "\n",
    "# Count signals\n",
    "print(df['type'].value_counts(sort=False).reindex(['A','B','C','D','E','F']))\n",
    "df['type'].value_counts(sort=False,normalize=True).reindex(['A','B','C','D','E','F']).plot(figsize=(10, 7),kind='bar',sort_columns=True)\n",
    "\n",
    "\n"
   ]
  },
  {
   "cell_type": "code",
   "execution_count": 58,
   "metadata": {
    "scrolled": false
   },
   "outputs": [
    {
     "data": {
      "text/html": [
       "<div>\n",
       "<style scoped>\n",
       "    .dataframe tbody tr th:only-of-type {\n",
       "        vertical-align: middle;\n",
       "    }\n",
       "\n",
       "    .dataframe tbody tr th {\n",
       "        vertical-align: top;\n",
       "    }\n",
       "\n",
       "    .dataframe thead th {\n",
       "        text-align: right;\n",
       "    }\n",
       "</style>\n",
       "<table border=\"1\" class=\"dataframe\">\n",
       "  <thead>\n",
       "    <tr style=\"text-align: right;\">\n",
       "      <th></th>\n",
       "      <th>width</th>\n",
       "      <th>height</th>\n",
       "      <th>form_factor</th>\n",
       "      <th>bbox_area</th>\n",
       "      <th>mask_area</th>\n",
       "      <th>filling_ratio</th>\n",
       "    </tr>\n",
       "    <tr>\n",
       "      <th>type</th>\n",
       "      <th></th>\n",
       "      <th></th>\n",
       "      <th></th>\n",
       "      <th></th>\n",
       "      <th></th>\n",
       "      <th></th>\n",
       "    </tr>\n",
       "  </thead>\n",
       "  <tbody>\n",
       "    <tr>\n",
       "      <th>A</th>\n",
       "      <td>205.89</td>\n",
       "      <td>179.91</td>\n",
       "      <td>1.227632</td>\n",
       "      <td>37041.6699</td>\n",
       "      <td>18502</td>\n",
       "      <td>0.524561</td>\n",
       "    </tr>\n",
       "    <tr>\n",
       "      <th>B</th>\n",
       "      <td>123.23</td>\n",
       "      <td>149.01</td>\n",
       "      <td>1.185969</td>\n",
       "      <td>18362.5023</td>\n",
       "      <td>9164</td>\n",
       "      <td>0.499061</td>\n",
       "    </tr>\n",
       "    <tr>\n",
       "      <th>C</th>\n",
       "      <td>235.30</td>\n",
       "      <td>237.65</td>\n",
       "      <td>1.068369</td>\n",
       "      <td>55919.0450</td>\n",
       "      <td>43770</td>\n",
       "      <td>0.786658</td>\n",
       "    </tr>\n",
       "    <tr>\n",
       "      <th>D</th>\n",
       "      <td>201.47</td>\n",
       "      <td>183.83</td>\n",
       "      <td>1.095958</td>\n",
       "      <td>37036.2301</td>\n",
       "      <td>31318</td>\n",
       "      <td>0.845604</td>\n",
       "    </tr>\n",
       "    <tr>\n",
       "      <th>E</th>\n",
       "      <td>218.90</td>\n",
       "      <td>215.86</td>\n",
       "      <td>1.067998</td>\n",
       "      <td>47251.7540</td>\n",
       "      <td>37035</td>\n",
       "      <td>0.784436</td>\n",
       "    </tr>\n",
       "    <tr>\n",
       "      <th>F</th>\n",
       "      <td>273.53</td>\n",
       "      <td>220.53</td>\n",
       "      <td>1.419829</td>\n",
       "      <td>52695.5545</td>\n",
       "      <td>52608</td>\n",
       "      <td>1.008235</td>\n",
       "    </tr>\n",
       "  </tbody>\n",
       "</table>\n",
       "</div>"
      ],
      "text/plain": [
       "       width  height  form_factor   bbox_area  mask_area  filling_ratio\n",
       "type                                                                   \n",
       "A     205.89  179.91     1.227632  37041.6699      18502       0.524561\n",
       "B     123.23  149.01     1.185969  18362.5023       9164       0.499061\n",
       "C     235.30  237.65     1.068369  55919.0450      43770       0.786658\n",
       "D     201.47  183.83     1.095958  37036.2301      31318       0.845604\n",
       "E     218.90  215.86     1.067998  47251.7540      37035       0.784436\n",
       "F     273.53  220.53     1.419829  52695.5545      52608       1.008235"
      ]
     },
     "execution_count": 58,
     "metadata": {},
     "output_type": "execute_result"
    }
   ],
   "source": [
    "type_counts = df.groupby('type').aggregate(np.max)\n",
    "type_counts\n",
    "\n",
    "#type_counts = df.groupby('type').aggregate(np.median)\n",
    "#type_counts = df.groupby('type').aggregate(np.average)\n",
    "#type_counts = df.groupby('type').aggregate(np.std)\n"
   ]
  },
  {
   "cell_type": "code",
   "execution_count": 51,
   "metadata": {},
   "outputs": [],
   "source": [
    "# Group data by \"type\" (letter) and get statistics:\n",
    "\n",
    "# Function = get_stats (only shape, aspect ratio, etc, NOT COLOUR)\n",
    "\n",
    "# Queremos estadisticas de tamaño y forma en función de cada letra        "
   ]
  },
  {
   "cell_type": "code",
   "execution_count": null,
   "metadata": {},
   "outputs": [],
   "source": [
    "# Plot and compare results"
   ]
  },
  {
   "cell_type": "markdown",
   "metadata": {},
   "source": [
    "# Item 2 - Split training dataset"
   ]
  },
  {
   "cell_type": "markdown",
   "metadata": {},
   "source": [
    "Al separar por tipo, tenemos que armar un algoritmo que nos separe el set de training en dos carpetas, \n",
    "separando mismos tipos en 70% / 30%."
   ]
  },
  {
   "cell_type": "markdown",
   "metadata": {},
   "source": [
    "# Item 3 - Separation by colour"
   ]
  },
  {
   "cell_type": "markdown",
   "metadata": {},
   "source": [
    "\n",
    "Para cada imagen de prueba, nos basamos en el diccionario y usamos el bounding box que ya calculamos.\n",
    "\n",
    "Recortamos la imagen, le calculamos el histograma. Sumamos los histogramas de todas las imágenes y obtenemos la suma total.\n",
    "\n",
    "Luego hacemos lo mismo y al recortar la roi de cada imagen convertimos la roi de rgb a hsv, calculamos el histograma\n",
    "y obtenemos la suma de todos los histogramas. \n",
    "\n",
    "Con estas cosas deberíamos poder obtener los thresholds a aplicar luego.\n"
   ]
  },
  {
   "cell_type": "markdown",
   "metadata": {},
   "source": [
    "Hacer gráficos chetos de los histogramas. Ajustar con multiples gaussianas, calcular promedio, mediana, std, etc.\n",
    "Compararlos y elegir el mejor.\n",
    "\n",
    "Luego aplicar las máscaras con los thresholds calculados"
   ]
  },
  {
   "cell_type": "code",
   "execution_count": null,
   "metadata": {},
   "outputs": [],
   "source": [
    "# Convert RGB images tu HUE images\n",
    "\n",
    "# Get stats from HUE images\n",
    "\n",
    "# Plot and compare\n",
    "\n",
    "# Select thresholds (RGB y HUE)\n",
    "\n",
    "# Create masks using previous thresholds"
   ]
  },
  {
   "cell_type": "markdown",
   "metadata": {},
   "source": [
    "# Item 4 - Evaluate colour masks "
   ]
  },
  {
   "cell_type": "markdown",
   "metadata": {},
   "source": [
    "Comparar las máscaras obtenidas con el ground truth.\n",
    "\n",
    "Podemos ver si sirven las funciones que ya nos dieron hechas."
   ]
  },
  {
   "cell_type": "code",
   "execution_count": null,
   "metadata": {},
   "outputs": [],
   "source": [
    "print(data['gt.00.005025.txt'][0])\n",
    "print(data['gt.00.005025.txt'][1])\n",
    "\n",
    "for gt in dirs_txt:\n",
    "    print(data[gt][0]['filling_ratio'])"
   ]
  },
  {
   "cell_type": "code",
   "execution_count": null,
   "metadata": {},
   "outputs": [],
   "source": [
    "for mask in dirs_mask:\n",
    "    gt = mask.replace('mask', 'gt').replace('png', 'txt')\n",
    "    m = (imageio.imread(os.path.join(path_mask, mask)))\n",
    "    mask_area = m.sum()\n",
    "    d = data[gt]\n",
    "    d['mask_area'] = mask_area\n",
    "    d['filling_ratio'] = mask_area / d['bbox_area']\n",
    "    \n",
    "    print(d['mask_area'], d['filling_ratio'], mask)\n",
    "    "
   ]
  },
  {
   "cell_type": "code",
   "execution_count": null,
   "metadata": {},
   "outputs": [],
   "source": [
    "print(dirs_mask[0].replace('mask', 'gt').replace('png', 'txt'))\n",
    "print(dirs_txt[0])\n"
   ]
  },
  {
   "cell_type": "code",
   "execution_count": null,
   "metadata": {},
   "outputs": [],
   "source": [
    "import matplotlib.pyplot as plt\n",
    "\n",
    "% matplotlib inline\n",
    "\n",
    "m = imageio.imread(os.path.join(path_mask,'mask.00.005025.png')).astype(np.int8)\n",
    "\n",
    "plt.imshow(m[146:201, 1324:1375])\n"
   ]
  }
 ],
 "metadata": {
  "kernelspec": {
   "display_name": "Python 3",
   "language": "python",
   "name": "python3"
  },
  "language_info": {
   "codemirror_mode": {
    "name": "ipython",
    "version": 3
   },
   "file_extension": ".py",
   "mimetype": "text/x-python",
   "name": "python",
   "nbconvert_exporter": "python",
   "pygments_lexer": "ipython3",
   "version": "3.6.6"
  }
 },
 "nbformat": 4,
 "nbformat_minor": 2
}
