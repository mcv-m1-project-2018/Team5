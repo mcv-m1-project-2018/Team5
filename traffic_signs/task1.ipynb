{
 "cells": [
  {
   "cell_type": "markdown",
   "metadata": {},
   "source": [
    "# Task 1 - Analyze the dataset\n",
    "Parse the groundtruth information into a dictionary. The key will be the name of the picture and the value a list of the signals and their information. \n",
    "\n",
    "This data structure let us find directly the picture that we want to process."
   ]
  },
  {
   "cell_type": "code",
   "execution_count": null,
   "metadata": {},
   "outputs": [],
   "source": [
    "#!/usr/bin/python\n",
    "# -*- coding: utf-8 -*-\n",
    "\n",
    "# Enable matplotline inline display\n",
    "%matplotlib inline\n",
    "\n",
    "# Import built-in modules\n",
    "import os\n",
    "\n",
    "# Import third party modules\n",
    "import imageio\n",
    "import matplotlib as mpl\n",
    "import matplotlib.pyplot as plt\n",
    "import numpy as np\n",
    "import pandas as pd\n",
    "\n",
    "# Import local functions\n",
    "from utils import get_files_from_dir, get_gt_data, get_img, get_n_samples_of_col, \\\n",
    "    get_unique_values_of_col, get_patch, gt_to_img, gt_to_mask, parse_gt_data, ROOT_DIR\n"
   ]
  },
  {
   "cell_type": "code",
   "execution_count": null,
   "metadata": {},
   "outputs": [],
   "source": [
    "\n",
    "# Useful directories\n",
    "TRAIN_DIR = os.path.join(ROOT_DIR, 'dataset', 'train')\n",
    "TRAIN_GTS_DIR = os.path.join(TRAIN_DIR, 'gt')\n",
    "TRAIN_MASKS_DIR = os.path.join(TRAIN_DIR, 'mask')\n",
    "TEST_DIR = os.path.join(ROOT_DIR, 'dataset', 'test')\n"
   ]
  },
  {
   "cell_type": "code",
   "execution_count": null,
   "metadata": {},
   "outputs": [],
   "source": [
    "\n",
    "\n",
    "gt_filenames = get_files_from_dir(TRAIN_GTS_DIR)\n",
    "mask_filenames = get_files_from_dir(TRAIN_MASKS_DIR)\n",
    "\n",
    "data = dict()\n",
    "\n",
    "for gt in gt_filenames:\n",
    "    mask_path = gt_to_mask(gt)\n",
    "    mask_img = get_img(TRAIN_MASKS_DIR, mask_path)\n",
    "    \n",
    "    lines = get_gt_data(TRAIN_GTS_DIR, gt)\n",
    "        \n",
    "    im_name = gt_to_mask(gt)\n",
    "    im_open = get_img(TRAIN_MASKS_DIR, im_name)\n",
    "\n",
    "    lista = list()\n",
    "    for l in lines:\n",
    "        tly, tlx, bry, brx, tipo = parse_gt_data(l)\n",
    "\n",
    "        d = dict()\n",
    "        d['type'] = tipo.strip()\n",
    "        \n",
    "        w = brx - tlx\n",
    "        h = bry - tly\n",
    "        \n",
    "        d['width'] = w\n",
    "        d['height'] = h\n",
    "        d['bbox_area'] = w*h\n",
    "        d['form_factor'] = w/h\n",
    "        \n",
    "        d['tly'] = round(tly)\n",
    "        d['tlx'] = round(tlx)\n",
    "        d['bry'] = round(bry)\n",
    "        d['brx'] = round(brx)\n",
    "        \n",
    "        mask_patch = get_patch(mask_img, d['tlx'], d['tly'], d['brx'], d['bry'])\n",
    "        mask_area = np.count_nonzero(mask_patch)\n",
    "        d['mask_area'] = mask_area\n",
    "        d['filling_ratio'] = mask_area / d['bbox_area']\n",
    "        d['mask'] = mask_patch != 0\n",
    "        \n",
    "        lista.append(d)\n",
    "        \n",
    "    data[gt] = lista\n"
   ]
  },
  {
   "cell_type": "markdown",
   "metadata": {},
   "source": [
    "Show information in pandas format to filter the signals by type easily.\n"
   ]
  },
  {
   "cell_type": "code",
   "execution_count": null,
   "metadata": {},
   "outputs": [],
   "source": [
    "columns = ['type','width','height','form_factor','bbox_area','mask_area','filling_ratio']\n",
    "df = pd.DataFrame.from_dict({(i,n): data[i][n]\n",
    "                        for i in data.keys()\n",
    "                        for n,v in enumerate(data[i])}, columns=columns, orient='index').sort_values(['type'])\n",
    "df"
   ]
  }
 ],
 "metadata": {
  "kernelspec": {
   "display_name": "Python 3",
   "language": "python",
   "name": "python3"
  },
  "language_info": {
   "codemirror_mode": {
    "name": "ipython",
    "version": 3
   },
   "file_extension": ".py",
   "mimetype": "text/x-python",
   "name": "python",
   "nbconvert_exporter": "python",
   "pygments_lexer": "ipython3",
   "version": "3.6.6"
  }
 },
 "nbformat": 4,
 "nbformat_minor": 2
}
