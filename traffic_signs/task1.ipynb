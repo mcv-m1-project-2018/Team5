{
 "cells": [
  {
   "cell_type": "markdown",
   "metadata": {},
   "source": [
    "# item 1 - Get data"
   ]
  },
  {
   "cell_type": "code",
   "execution_count": null,
   "metadata": {},
   "outputs": [],
   "source": [
    "#!/usr/bin/python\n",
    "# -*- coding: utf-8 -*-\n",
    "\n",
    "%matplotlib inline\n",
    "\n",
    "import numpy as np\n",
    "import os, sys\n",
    "import imageio\n",
    "import pandas as pd\n",
    "import matplotlib.pyplot as plt\n",
    "\n",
    "path_txt = os.path.join('dataset', 'train', 'gt')\n",
    "path_mask = os.path.join('dataset', 'train', 'mask')\n",
    "\n",
    "dirs_txt = os.listdir(path_txt)\n",
    "dirs_mask = os.listdir(path_mask)\n",
    "\n",
    "data = dict()\n",
    "\n",
    "for gt in dirs_txt:\n",
    "    with open(os.path.join(path_txt, gt)) as f:\n",
    "        lines = f.readlines()\n",
    "        \n",
    "        im_name = gt.replace('gt', 'mask').replace('txt', 'png')\n",
    "        im_open = (imageio.imread(os.path.join(path_mask, im_name)))\n",
    "\n",
    "        lista = list()\n",
    "        for l in lines:\n",
    "            tly, tlx, bry, brx, tipo = l.split(' ')  \n",
    "            tly, tlx, bry, brx = map(float, [tly, tlx, bry, brx])\n",
    "            d = dict()\n",
    "            d['type'] = tipo.strip()\n",
    "            \n",
    "            w = brx - tlx\n",
    "            h = bry - tly\n",
    "            \n",
    "            d['width'] = w\n",
    "            d['height'] = h\n",
    "            d['bbox_area'] = w*h\n",
    "            d['form_factor'] = w/h\n",
    "            \n",
    "            d['tly'] = round(tly)\n",
    "            d['tlx'] = round(tlx)\n",
    "            d['bry'] = round(bry)\n",
    "            d['brx'] = round(brx)\n",
    "            \n",
    "            sub_mask = im_open[d['tly']:d['bry'], d['tlx']:d['brx']]\n",
    "            mask_area = np.count_nonzero(sub_mask)\n",
    "            d['mask_area'] = mask_area\n",
    "            d['filling_ratio'] = mask_area / d['bbox_area']\n",
    "            \n",
    "            lista.append(d)\n",
    "            \n",
    "        data[gt] = lista\n",
    "    "
   ]
  },
  {
   "cell_type": "code",
   "execution_count": null,
   "metadata": {},
   "outputs": [],
   "source": [
    "# Write table\n",
    "columns = ['type','width','height','form_factor','bbox_area','mask_area','filling_ratio']\n",
    "df = pd.DataFrame.from_dict({(i,n): data[i][n]\n",
    "                        for i in data.keys()\n",
    "                        for n,v in enumerate(data[i])}, columns=columns, orient='index').sort_values(['type'])\n",
    "print(df)\n",
    "#df['form_factor'].plot(figsize=(10, 7))\n",
    "\n",
    "# Count signals\n",
    "print(df['type'].value_counts(sort=False).reindex(['A','B','C','D','E','F']))\n",
    "df['type'].value_counts(sort=False,normalize=True).reindex(['A','B','C','D','E','F']).plot(figsize=(10, 7),kind='bar',sort_columns=True)\n",
    "\n",
    "\n"
   ]
  },
  {
   "cell_type": "code",
   "execution_count": null,
   "metadata": {
    "scrolled": false
   },
   "outputs": [],
   "source": [
    "type_counts = df.groupby('type').aggregate(np.std)\n",
    "type_counts\n",
    "\n",
    "#type_counts = df.groupby('type').aggregate(np.median)\n",
    "#type_counts = df.groupby('type').aggregate(np.average)\n",
    "#type_counts = df.groupby('type').aggregate(np.std)\n"
   ]
  },
  {
   "cell_type": "code",
   "execution_count": null,
   "metadata": {},
   "outputs": [],
   "source": [
    "# Group data by \"type\" (letter) and get statistics:\n",
    "\n",
    "# Function = get_stats (only shape, aspect ratio, etc, NOT COLOUR)\n",
    "\n",
    "# Queremos estadisticas de tamaño y forma en función de cada letra        "
   ]
  },
  {
   "cell_type": "code",
   "execution_count": null,
   "metadata": {},
   "outputs": [],
   "source": [
    "# Plot and compare results"
   ]
  },
  {
   "cell_type": "markdown",
   "metadata": {},
   "source": [
    "MOSTRAR IMÁGENES REPRESENTATIVAS DE CADA MUESTRA QUE MUESTREN LOS COLORES TIPICOS QUE ESPERAMOS ENCONTRAR - \n",
    "ARGUMENTAR POR QUE ESPERAMOS VER 4"
   ]
  },
  {
   "cell_type": "markdown",
   "metadata": {},
   "source": [
    "# Item 2 - Split training dataset"
   ]
  },
  {
   "cell_type": "markdown",
   "metadata": {},
   "source": [
    "Al separar por tipo, tenemos que armar un algoritmo que nos separe el set de training en dos carpetas, \n",
    "separando mismos tipos en 70% / 30%."
   ]
  },
  {
   "cell_type": "markdown",
   "metadata": {},
   "source": [
    "# Item 3 - Separation by colour"
   ]
  },
  {
   "cell_type": "markdown",
   "metadata": {},
   "source": [
    "\n",
    "Para cada imagen de prueba, nos basamos en el diccionario y usamos el bounding box que ya calculamos.\n",
    "\n",
    "Recortamos la imagen, le calculamos el histograma. Sumamos los histogramas de todas las imágenes y obtenemos la suma total.\n",
    "\n",
    "Luego hacemos lo mismo y al recortar la roi de cada imagen convertimos la roi de rgb a hsv, calculamos el histograma\n",
    "y obtenemos la suma de todos los histogramas. \n",
    "\n",
    "Con estas cosas deberíamos poder obtener los thresholds a aplicar luego.\n"
   ]
  },
  {
   "cell_type": "markdown",
   "metadata": {},
   "source": [
    "Hacer gráficos chetos de los histogramas. Ajustar con multiples gaussianas, calcular promedio, mediana, std, etc.\n",
    "Compararlos y elegir el mejor.\n",
    "\n",
    "Luego aplicar las máscaras con los thresholds calculados"
   ]
  },
  {
   "cell_type": "code",
   "execution_count": null,
   "metadata": {},
   "outputs": [],
   "source": [
    "# Convert RGB images tu HUE images\n",
    "\n",
    "# Get stats from HUE images\n",
    "\n",
    "# Plot and compare\n",
    "\n",
    "# Select thresholds (RGB y HUE)\n",
    "\n",
    "# Create masks using previous thresholds\n",
    "\n"
   ]
  },
  {
   "cell_type": "markdown",
   "metadata": {},
   "source": [
    "# Calculate histograms:"
   ]
  },
  {
   "cell_type": "code",
   "execution_count": null,
   "metadata": {},
   "outputs": [],
   "source": [
    "from skimage import color\n",
    "\n",
    "path_jpg = os.path.join('dataset', 'train', 'jpg')\n",
    "dirs_jpg = os.listdir(path_jpg)\n",
    "\n",
    "def color_histogram(gt_dictionary, path_jpg, color_space):\n",
    "\n",
    "    c0_hist = np.zeros(255)\n",
    "    c1_hist = np.zeros(255)\n",
    "    c2_hist = np.zeros(255)\n",
    "\n",
    "    for gt, values in list(gt_dictionary.items()):\n",
    "        for v in values:\n",
    "\n",
    "            jpg_name = gt.replace('gt.', '').replace('txt', 'jpg')\n",
    "            mask_name = gt.replace('gt', 'mask').replace('txt', 'png')\n",
    "            \n",
    "            jpg_roi = imageio.imread(os.path.join(path_jpg, jpg_name))[v['tly']:v['bry'], v['tlx']:v['brx']]\n",
    "            mask_roi = imageio.imread(os.path.join(path_mask, mask_name))[v['tly']:v['bry'], v['tlx']:v['brx']]\n",
    "\n",
    "            if color_space=='rgb':\n",
    "                final_roi = jpg_roi\n",
    "                r0 = 0\n",
    "                rf = 255\n",
    "                \n",
    "            elif color_space=='hsv':\n",
    "                final_roi = color.rgb2hsv(jpg_roi) \n",
    "                r0 = 0\n",
    "                rf = 1\n",
    "                \n",
    "            elif color_space=='ycbcr':\n",
    "                final_roi = color.rgb2ycbcr(jpg_roi)\n",
    "                r0 = 0\n",
    "                rf = 255\n",
    "                \n",
    "            elif color_space=='xyz':\n",
    "                final_roi = color.rgb2xyz(jpg_roi)\n",
    "                r0 = 0\n",
    "                rf = 1\n",
    "                \n",
    "            mask_roi[mask_roi==0] = 0\n",
    "            mask_roi[mask_roi!=0] = 1\n",
    "            \n",
    "            bins = np.histogram(final_roi[:,:,0] * mask_roi, bins=255, range=(r0,rf))[1]\n",
    "            c0_hist += np.histogram(final_roi[:,:,0] * mask_roi, bins=255, range=(r0,rf))[0]\n",
    "            c1_hist += np.histogram(final_roi[:,:,1] * mask_roi, bins=255, range=(r0,rf))[0]\n",
    "            c2_hist += np.histogram(final_roi[:,:,2] * mask_roi, bins=255, range=(r0,rf))[0]\n",
    "    \n",
    "    return bins, c0_hist, c1_hist, c2_hist, r0, rf\n",
    "\n",
    "\n",
    "################################################\n",
    "# Calculate histograms with traffic signal data:\n",
    "################################################\n",
    "\n",
    "# RGB histograms:\n",
    "\n",
    "bins, r_hist, g_hist, b_hist, rgb0, rgbf = color_histogram(data, path_jpg, 'rgb')\n",
    "\n",
    "# HSV histograms:\n",
    "\n",
    "hbins, h_hist, s_hist, v_hist, hsv0, hsvf = color_histogram(data, path_jpg, 'hsv')\n",
    "\n",
    "# yCbCr histograms:\n",
    "\n",
    "ybins, y_hist, cb_hist, cr_hist, ycbcr0, ycbcrf = color_histogram(data, path_jpg, 'ycbcr')\n",
    "\n",
    "# X,Y,Z histograms:\n",
    "\n",
    "xbins, xx_hist, yy_hist, zz_hist, xyz0, xyzf = color_histogram(data, path_jpg, 'xyz')\n"
   ]
  },
  {
   "cell_type": "markdown",
   "metadata": {},
   "source": [
    "# Plot histograms:"
   ]
  },
  {
   "cell_type": "code",
   "execution_count": null,
   "metadata": {},
   "outputs": [],
   "source": [
    "# Questions: why can't I use the variable 'bins' to plot the histograms?\n",
    "# Why do I get a divergence at 255?\n",
    "# Why am I dividing by zero when converting to HSV?\n",
    "\n",
    "def plot_histogram(hist, r0, rf, color_name, color_plot):\n",
    "\n",
    "    x = np.linspace(r0, rf, 255)\n",
    "    \n",
    "    plt.figure(figsize=(7,7))\n",
    "    plt.bar(x, hist, color=color_plot, width=0.8*(rf-r0)/255)\n",
    "    plt.ylim((0,60000))\n",
    "    plt.title(color_name + ' histogram')\n",
    "    plt.xlabel('8bit quantification')\n",
    "    plt.ylabel('Total number of px')\n",
    "    plt.savefig('figures/' + str(color_name) + '_hist.png')\n",
    "    plt.show()\n",
    "    \n",
    "# Plot RGB histograms:\n",
    "\n",
    "plot_histogram(r_hist, rgb0, rgbf, 'Red', 'r')\n",
    "plot_histogram(g_hist, rgb0, rgbf, 'Green', 'g')\n",
    "plot_histogram(b_hist, rgb0, rgbf, 'Blue', 'b')\n",
    "\n",
    "# Plot HSV histograms:\n",
    "\n",
    "plot_histogram(h_hist, hsv0, hsvf, 'H', 'r')\n",
    "plot_histogram(s_hist, hsv0, hsvf, 'S', 'g')\n",
    "plot_histogram(v_hist, hsv0, hsvf, 'V', 'b')\n",
    "\n",
    "# Plot yCbCr histograms:\n",
    "\n",
    "plot_histogram(y_hist, ycbcr0, ycbcrf, 'y', 'r')\n",
    "plot_histogram(cb_hist, ycbcr0, ycbcrf, 'Cb', 'g')\n",
    "plot_histogram(cr_hist, ycbcr0, ycbcrf, 'Cr', 'b')\n",
    "\n",
    "# Plot xyz histograms:\n",
    "\n",
    "plot_histogram(xx_hist, xyz0, xyzf, 'X', 'r')\n",
    "plot_histogram(yy_hist, xyz0, xyzf, 'Y', 'g')\n",
    "plot_histogram(zz_hist, xyz0, xyzf, 'Z', 'b')\n"
   ]
  },
  {
   "cell_type": "markdown",
   "metadata": {},
   "source": [
    "# Normalized RGB histogram:"
   ]
  },
  {
   "cell_type": "code",
   "execution_count": null,
   "metadata": {},
   "outputs": [],
   "source": [
    "from skimage import color\n",
    "\n",
    "path_jpg = os.path.join('dataset', 'train', 'jpg')\n",
    "dirs_jpg = os.listdir(path_jpg)\n",
    "\n",
    "def norm_histogram(gt_dictionary, path_jpg, color_space):\n",
    "\n",
    "    c0_hist = np.zeros(255)\n",
    "    c1_hist = np.zeros(255)\n",
    "    c2_hist = np.zeros(255)\n",
    "\n",
    "    for gt, values in list(gt_dictionary.items()):\n",
    "        for v in values:\n",
    "\n",
    "            jpg_name = gt.replace('gt.', '').replace('txt', 'jpg')\n",
    "            mask_name = gt.replace('gt', 'mask').replace('txt', 'png')\n",
    "           \n",
    "            # Important: in order to normalize we need to read THE FULL IMAGE. If we normalize the rois, \n",
    "            # we will be training our algorithm poorly.After trying this, we saw all images have saturated\n",
    "            # pixels (aka normalized image = original image). \n",
    "            \n",
    "            # We will normalize the ROIs, knowing this is poorly training the algorithm.\n",
    "       \n",
    "            jpg_roi = imageio.imread(os.path.join(path_jpg, jpg_name))[v['tly']:v['bry'], v['tlx']:v['brx']]\n",
    "            mask_roi = imageio.imread(os.path.join(path_mask, mask_name))[v['tly']:v['bry'], v['tlx']:v['brx']]\n",
    "\n",
    "            jpg_max_0 = np.max(jpg_roi[:,:,0])\n",
    "            jpg_max_1 = np.max(jpg_roi[:,:,1])\n",
    "            jpg_max_2 = np.max(jpg_roi[:,:,2])\n",
    "            \n",
    "            if color_space=='rgb':\n",
    "                final_roi = jpg_roi\n",
    "                jpg_max_0, jpg_max_1, jpg_max_2 = jpg_max_0, jpg_max_1, jpg_max_2 \n",
    "                                \n",
    "            mask_roi[mask_roi==0] = 0\n",
    "            mask_roi[mask_roi!=0] = 1\n",
    " \n",
    "            bins = np.histogram(final_roi[:,:,0] * mask_roi, bins=255, range=(0,1))[1]\n",
    "            c0_hist += np.histogram(final_roi[:,:,0] / jpg_max_0 * mask_roi, bins=255, range=(0,1))[0]\n",
    "            c1_hist += np.histogram(final_roi[:,:,1] / jpg_max_1 * mask_roi, bins=255, range=(0,1))[0]\n",
    "            c2_hist += np.histogram(final_roi[:,:,2] / jpg_max_2 * mask_roi, bins=255, range=(0,1))[0]\n",
    "    \n",
    "    return bins, c0_hist, c1_hist, c2_hist\n",
    "\n",
    "\n",
    "################################################\n",
    "# Calculate histograms with traffic signal data:\n",
    "################################################\n",
    "\n",
    "# RGB histograms:\n",
    "\n",
    "bins_norm, r_hist_norm, g_hist_norm, b_hist_norm = norm_histogram(data, path_jpg, 'rgb')\n",
    "\n"
   ]
  },
  {
   "cell_type": "markdown",
   "metadata": {},
   "source": [
    "# Plot normalized histogram:"
   ]
  },
  {
   "cell_type": "code",
   "execution_count": null,
   "metadata": {},
   "outputs": [],
   "source": [
    "plot_histogram(r_hist_norm, 0, 1, 'Red_norm', 'r')\n",
    "plot_histogram(g_hist_norm, 0, 1, 'Green_norm', 'g')\n",
    "plot_histogram(b_hist_norm, 0, 1, 'Blue_norm', 'b')"
   ]
  },
  {
   "cell_type": "markdown",
   "metadata": {},
   "source": [
    "# Item 4 - Evaluate colour masks "
   ]
  },
  {
   "cell_type": "markdown",
   "metadata": {},
   "source": [
    "Comparar las máscaras obtenidas con el ground truth.\n",
    "\n",
    "Podemos ver si sirven las funciones que ya nos dieron hechas."
   ]
  },
  {
   "cell_type": "markdown",
   "metadata": {},
   "source": [
    "# Lo que sigue a partir de aqui fueron pruebas hechas el martes:"
   ]
  },
  {
   "cell_type": "code",
   "execution_count": null,
   "metadata": {},
   "outputs": [],
   "source": [
    "print(data['gt.00.005025.txt'][0])\n",
    "print(data['gt.00.005025.txt'][1])\n",
    "\n",
    "for gt in dirs_txt:\n",
    "    print(data[gt][0]['filling_ratio'])"
   ]
  },
  {
   "cell_type": "code",
   "execution_count": null,
   "metadata": {},
   "outputs": [],
   "source": [
    "for mask in dirs_mask:\n",
    "    gt = mask.replace('mask', 'gt').replace('png', 'txt')\n",
    "    m = (imageio.imread(os.path.join(path_mask, mask)))\n",
    "    mask_area = m.sum()\n",
    "    d = data[gt]\n",
    "    d['mask_area'] = mask_area\n",
    "    d['filling_ratio'] = mask_area / d['bbox_area']\n",
    "    \n",
    "    print(d['mask_area'], d['filling_ratio'], mask)\n",
    "    "
   ]
  },
  {
   "cell_type": "code",
   "execution_count": null,
   "metadata": {},
   "outputs": [],
   "source": [
    "print(dirs_mask[0].replace('mask', 'gt').replace('png', 'txt'))\n",
    "print(dirs_txt[0])\n"
   ]
  },
  {
   "cell_type": "code",
   "execution_count": null,
   "metadata": {},
   "outputs": [],
   "source": [
    "import matplotlib.pyplot as plt\n",
    "\n",
    "% matplotlib inline\n",
    "\n",
    "m = imageio.imread(os.path.join(path_mask,'mask.00.005025.png')).astype(np.int8)\n",
    "\n",
    "plt.imshow(m[146:201, 1324:1375])\n"
   ]
  }
 ],
 "metadata": {
  "kernelspec": {
   "display_name": "Python 3",
   "language": "python",
   "name": "python3"
  },
  "language_info": {
   "codemirror_mode": {
    "name": "ipython",
    "version": 3
   },
   "file_extension": ".py",
   "mimetype": "text/x-python",
   "name": "python",
   "nbconvert_exporter": "python",
   "pygments_lexer": "ipython3",
   "version": "3.7.0"
  }
 },
 "nbformat": 4,
 "nbformat_minor": 2
}
