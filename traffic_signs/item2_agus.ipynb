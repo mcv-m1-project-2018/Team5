{
 "cells": [
  {
   "cell_type": "code",
   "execution_count": 1,
   "metadata": {},
   "outputs": [],
   "source": [
    "#!/usr/bin/python\n",
    "# -*- coding: utf-8 -*-\n",
    "\n",
    "# Enable matplotline inline display\n",
    "%matplotlib inline\n",
    "\n",
    "# Import built-in modules\n",
    "import os\n",
    "\n",
    "# Import third party modules\n",
    "import imageio\n",
    "import matplotlib as mpl\n",
    "import matplotlib.pyplot as plt\n",
    "import numpy as np\n",
    "import pandas as pd\n",
    "\n",
    "from IPython.display import display, HTML\n",
    "from skimage import color\n",
    "from skimage import exposure\n",
    "from skimage import morphology\n",
    "from utils import get_files_from_dir\n",
    "from skimage.measure import label, regionprops\n",
    "from skimage.color import label2rgb\n",
    "from scipy.ndimage.morphology import binary_fill_holes\n",
    "\n",
    "\n",
    "import matplotlib.patches as mpatches\n",
    "np.seterr(divide='ignore', invalid='ignore')\n",
    "\n",
    "path_mask = os.path.join('m1-results','week1','test','method1')\n",
    "mask_filenames = get_files_from_dir(path_mask)\n",
    "\n",
    "\n"
   ]
  },
  {
   "cell_type": "code",
   "execution_count": 10,
   "metadata": {},
   "outputs": [
    {
     "data": {
      "text/plain": [
       "\"  \\npath_mask = os.path.join('m1-results','week1','test','method1')\\nmask_filenames = get_files_from_dir(path_mask)\\n\\nfor i in range(5):\\n\\n    mask_i = imageio.imread(os.path.join(path_mask, mask_filenames[i]))\\n\\n    mask0 = mask_i#binary_fill_holes(mask_i)\\n\\n    #bbox_list_cc = connected_components(mask0, area_min=1000, area_max=50000, ff_min=0.5, ff_max=2, fr_min=0.5, \\n                                        #plot=True, fname='bbox_prueba', directory='figures')\\n\""
      ]
     },
     "execution_count": 10,
     "metadata": {},
     "output_type": "execute_result"
    }
   ],
   "source": [
    "#!/usr/bin/python\n",
    "# -*- coding: utf-8 -*-\n",
    "\n",
    "# Import built-in modules\n",
    "import os\n",
    "\n",
    "# Import third party modules\n",
    "import imageio\n",
    "import matplotlib.pyplot as plt\n",
    "import numpy as np\n",
    "import matplotlib.patches as mpatches\n",
    "\n",
    "from skimage.measure import label, regionprops\n",
    "from utils import get_files_from_dir\n",
    "from utils import bboxes_to_file \n",
    "\n",
    "def connected_components(mask0, area_min=None, area_max=None, ff_min=None, ff_max=None, fr_min=None, \n",
    "                         plot=False, fname=None, directory=None):\n",
    "\n",
    "    label_image = label(mask0)\n",
    "    bbox_list = []\n",
    "    \n",
    "    if plot==True:\n",
    "        fig, ax = plt.subplots(figsize=(10, 6))\n",
    "        ax.imshow(mask0)\n",
    "\n",
    "    for region in regionprops(label_image):\n",
    "        \n",
    "        minr, minc, maxr, maxc = region.bbox\n",
    "        h = maxr - minr\n",
    "        w = maxc - minc\n",
    "        form_factor = w / h\n",
    "        filling_ratio = region.filled_area / region.bbox_area\n",
    "\n",
    "        # Filter by area:\n",
    "        if area_min is not None and area_max is not None:\n",
    "            if area_min <= region.bbox_area <= area_max:\n",
    "                 minr, minc, maxr, maxc = region.bbox\n",
    "            else:\n",
    "                del(minr, minc, maxr, maxc)\n",
    "                continue\n",
    "                \n",
    "        # Filter by form factor:\n",
    "        if ff_min is not None and ff_max is not None:\n",
    "            if ff_min < form_factor < ff_max:\n",
    "                minr, minc, maxr, maxc = region.bbox\n",
    "            else:\n",
    "                del(minr, minc, maxr, maxc)\n",
    "                continue\n",
    "                \n",
    "        # Filter by filling ratio:\n",
    "        if fr_min is not None:\n",
    "            if filling_ratio > fr_min:\n",
    "                minr, minc, maxr, maxc = region.bbox\n",
    "            else:\n",
    "                del(minr, minc, maxr, maxc)\n",
    "                continue\n",
    "        \n",
    "        bbox_list.append([minr, minc, maxr, maxc])\n",
    "        \n",
    "        if plot==True:\n",
    "\n",
    "            rect = mpatches.Rectangle((minc, minr), maxc - minc, maxr - minr,\n",
    "                                      fill=False, edgecolor='red', linewidth=2)\n",
    "            ax.add_patch(rect)\n",
    "    #plt.savefig('figures/filter_area_ff_fr_train.png')\n",
    "            \n",
    "    if fname is not None and directory is not None:\n",
    "        bboxes_to_file(bbox_list, fname, directory, sign_types=None)\n",
    "        \n",
    "    return bbox_list\n",
    "'''  \n",
    "path_mask = os.path.join('m1-results','week1','test','method1')\n",
    "mask_filenames = get_files_from_dir(path_mask)\n",
    "\n",
    "for i in range(5):\n",
    "\n",
    "    mask_i = imageio.imread(os.path.join(path_mask, mask_filenames[i]))\n",
    "\n",
    "    mask0 = mask_i#binary_fill_holes(mask_i)\n",
    "\n",
    "    #bbox_list_cc = connected_components(mask0, area_min=1000, area_max=50000, ff_min=0.5, ff_max=2, fr_min=0.5, \n",
    "                                        #plot=True, fname='bbox_prueba', directory='figures')\n",
    "'''"
   ]
  },
  {
   "cell_type": "code",
   "execution_count": null,
   "metadata": {},
   "outputs": [],
   "source": []
  },
  {
   "cell_type": "code",
   "execution_count": 14,
   "metadata": {},
   "outputs": [
    {
     "data": {
      "image/png": "[encoded data removed]",
      "text/plain": [
       "<Figure size 720x432 with 1 Axes>"
      ]
     },
     "metadata": {
      "needs_background": "light"
     },
     "output_type": "display_data"
    }
   ],
   "source": [
    "path_mask = os.path.join('dataset','train','mask')\n",
    "mask_filenames = get_files_from_dir(path_mask)\n",
    "\n",
    "for i in range(1):\n",
    "\n",
    "    mask_i = imageio.imread(os.path.join(path_mask, mask_filenames[i]))\n",
    "\n",
    "    mask0 = binary_fill_holes(mask_i)\n",
    "\n",
    "    bbox_list_cc = connected_components(mask0, area_min=1000, area_max=50000, ff_min=0.5, ff_max=2, fr_min=0.5, \n",
    "                                        plot=True, fname='bbox_prueba', directory='figures')\n"
   ]
  },
  {
   "cell_type": "code",
   "execution_count": 13,
   "metadata": {},
   "outputs": [
    {
     "name": "stdout",
     "output_type": "stream",
     "text": [
      "2\n",
      "['01.003554.png', '01.003420.png', '01.002784.png', '01.002869.png', '01.003067.png', '01.003591.png', '01.003557.png', '01.003421.png', '01.003589.png', '01.002661.png', '01.003419.png', '01.002409.png', '01.002890.png', '01.002657.png', '01.001670.png', '01.001370.png', '01.003551.png', '01.003596.png', '01.003550.png', '01.003155.png', '01.003342.png', '01.002832.png', '01.002871.png', '01.003247.png', '01.003246.png', '01.003601.png', '01.003231.png', '01.003603.png', '01.003103.png', '01.003594.png', '01.002965.png', '01.002961.png', '01.003233.png', '01.003632.png', '01.002785.png', '01.003543.png', '01.003590.png', '01.002966.png', '01.003038.png', '01.003634.png', '01.003276.png', '01.003037.png', '01.003552.png', '01.002320.png', '01.002436.png', '01.002374.png', '01.003544.png', '01.002799.png', '01.003102.png', '01.003193.png', '01.002429.png', '01.003232.png', '01.003631.png', '01.002316.png', '01.003556.png', '01.003336.png', '01.003444.png', '01.003248.png', '01.003442.png', '01.003068.png', '01.003553.png', '01.003592.png', '01.001330.png', '01.003445.png', '01.002270.png', '01.003277.png', '01.003337.png', '01.003461.png', '01.002227.png', '01.002826.png', '01.003022.png', '01.003191.png', '01.003538.png', '01.003555.png', '01.002643.png', '01.003376.png', '01.003595.png', '01.002168.png', '01.002952.png', '01.003539.png', '01.003131.png', '01.003375.png', '01.003615.png', '01.002372.png', '01.003036.png', '01.003537.png', '01.003597.png', '01.003154.png', '01.003275.png', '01.003010.png', '01.002371.png', '01.003545.png', '01.003012.png', '01.002660.png', '01.002967.png', '01.003635.png', '01.002072.png', '01.002810.png', '01.003129.png', '01.002317.png', '01.003238.png', '01.002437.png', '01.002953.png', '01.002408.png', '01.003593.png', '01.002070.png', '01.003066.png', '01.003423.png', '01.003104.png', '01.003602.png', '01.003344.png', '01.003407.png', '01.003153.png', '01.003021.png', '01.003132.png', '01.003613.png', '01.002430.png', '01.003239.png', '01.003630.png', '01.003443.png', '01.003377.png', '01.002868.png', '01.002811.png', '01.003406.png', '01.003422.png', '01.002872.png', '01.003023.png', '01.003549.png', '01.003614.png', '01.003192.png', '01.003405.png', '00.001767.png', '01.003011.png', '01.003338.png', '01.003633.png', '01.001332.png', '01.003130.png']\n"
     ]
    }
   ],
   "source": [
    "print(len(bbox_list_cc))\n",
    "\n",
    "#print(bbox_list_cc)\n",
    "\n",
    "# No filter = 3925 Bboxes\n",
    "# Filter area = 13\n",
    "# Filter ff = 6\n",
    "# Filter fr = 2\n",
    "\n",
    "print(mask_filenames)"
   ]
  }
 ],
 "metadata": {
  "kernelspec": {
   "display_name": "Python 3",
   "language": "python",
   "name": "python3"
  },
  "language_info": {
   "codemirror_mode": {
    "name": "ipython",
    "version": 3
   },
   "file_extension": ".py",
   "mimetype": "text/x-python",
   "name": "python",
   "nbconvert_exporter": "python",
   "pygments_lexer": "ipython3",
   "version": "3.7.0"
  }
 },
 "nbformat": 4,
 "nbformat_minor": 2
}
